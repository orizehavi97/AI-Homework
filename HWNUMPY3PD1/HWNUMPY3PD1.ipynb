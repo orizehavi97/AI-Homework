{
 "cells": [
  {
   "cell_type": "markdown",
   "id": "6a775d3a-617c-4f74-8c27-44795414e67a",
   "metadata": {},
   "source": [
    "## Homework Numpy 3\n",
    "\n",
    "import numpy, pandas ,display and pyplot"
   ]
  },
  {
   "cell_type": "code",
   "execution_count": 1,
   "id": "e56afa5d-5c28-473f-98c8-873c561de51b",
   "metadata": {},
   "outputs": [],
   "source": [
    "import numpy as np\n",
    "import pandas as pd\n",
    "from IPython.display import display\n",
    "import matplotlib.pyplot as plt"
   ]
  },
  {
   "cell_type": "markdown",
   "id": "aeae9218-e597-4e6c-b201-af96a1642ce1",
   "metadata": {},
   "source": [
    "**EX 1**\n",
    "NUMPY exercise"
   ]
  },
  {
   "cell_type": "code",
   "execution_count": 4,
   "id": "9be326ba-2c1a-4395-87de-96a6ef84d80c",
   "metadata": {},
   "outputs": [
    {
     "name": "stdout",
     "output_type": "stream",
     "text": [
      "[[48 61 39 84]\n",
      " [11 51  4 87]\n",
      " [24 16 82  6]\n",
      " [65 10 93 43]]\n",
      "print numbers above 50 [61 84 51 87 82 65 93]\n",
      "print columns sums [148 138 218 220]\n",
      "print rows sums [232 153 128 211]\n",
      "print columns max [65 61 93 87]\n",
      "print rows max [84 87 82 93]\n",
      "print columns min [11 10  4  6]\n",
      "print rows min [39  4  6 10]\n",
      "print columns avg [37.  34.5 54.5 55. ]\n",
      "print rows avg [58.   38.25 32.   52.75]\n"
     ]
    }
   ],
   "source": [
    "np.random.seed(80)\n",
    "randy = np.random.randint(1, 100, (4,4))\n",
    "print(randy)\n",
    "\n",
    "# a\n",
    "print(\"print numbers above 50\",randy[randy>50])\n",
    "\n",
    "# b\n",
    "print(\"print columns sums\",randy.sum(axis = 0))\n",
    "print(\"print rows sums\",randy.sum(axis = 1))\n",
    "\n",
    "# c\n",
    "print(\"print columns max\",np.max(randy, axis = 0))\n",
    "print(\"print rows max\",np.max(randy, axis = 1))\n",
    "print(\"print columns min\",np.min(randy, axis = 0))\n",
    "print(\"print rows min\",np.min(randy, axis = 1))\n",
    "print(\"print columns avg\",np.mean(randy, axis = 0))\n",
    "print(\"print rows avg\",np.mean(randy, axis = 1))"
   ]
  },
  {
   "cell_type": "markdown",
   "id": "b45dc89a-b769-4a94-982e-a025ea35f631",
   "metadata": {},
   "source": [
    "**EX 2**\n",
    "PANDAS exercise"
   ]
  },
  {
   "cell_type": "code",
   "execution_count": 7,
   "id": "ff003fb5-2a4d-4ef9-9245-307ce97bca79",
   "metadata": {},
   "outputs": [
    {
     "name": "stdout",
     "output_type": "stream",
     "text": [
      "Final Fantasy VII Rebirth            69.99\n",
      "Astro Bot                            59.99\n",
      "Star Wars Outlaws                    69.99\n",
      "Silent Hill 2 Remake                 69.99\n",
      "Elden Ring: Shadow of the Erdtree    39.99\n",
      "Dragon Age: The Veilguard            69.99\n",
      "Metaphor: ReFantazio                 59.99\n",
      "dtype: float64\n",
      "Metaphor: ReFantazio :  59.99\n",
      "Keys:  Index(['Final Fantasy VII Rebirth', 'Astro Bot', 'Star Wars Outlaws',\n",
      "       'Silent Hill 2 Remake', 'Elden Ring: Shadow of the Erdtree',\n",
      "       'Dragon Age: The Veilguard', 'Metaphor: ReFantazio'],\n",
      "      dtype='object')\n",
      "price of index 3:  69.99\n",
      "sum price of all games:  439.93\n"
     ]
    }
   ],
   "source": [
    "new_games = {\n",
    "\"Final Fantasy VII Rebirth\": 69.99,\n",
    "\"Astro Bot\": 59.99,\n",
    "\"Star Wars Outlaws\": 69.99,\n",
    "\"Silent Hill 2 Remake\": 69.99,\n",
    "\"Elden Ring: Shadow of the Erdtree\": 39.99,\n",
    "\"Dragon Age: The Veilguard\": 69.99,\n",
    "\"Metaphor: ReFantazio\": 59.99\n",
    "}\n",
    "\n",
    "new_games_series = pd.Series(new_games)\n",
    "print(new_games_series)\n",
    "\n",
    "# a\n",
    "print(\"Metaphor: ReFantazio : \", new_games_series['Metaphor: ReFantazio'])\n",
    "\n",
    "# b\n",
    "print(\"Keys: \", new_games_series.keys())\n",
    "\n",
    "# c\n",
    "print(\"price of index 3: \", new_games_series.iloc[3])\n",
    "\n",
    "# d\n",
    "print(\"sum price of all games: \", np.sum(new_games_series.values))"
   ]
  },
  {
   "cell_type": "code",
   "execution_count": null,
   "id": "31e09eaa-12ca-40ad-9ca8-ee6af50714c5",
   "metadata": {},
   "outputs": [],
   "source": []
  },
  {
   "cell_type": "code",
   "execution_count": null,
   "id": "81d1f2f0-3cb4-4e41-9b01-25dee96fa79c",
   "metadata": {},
   "outputs": [],
   "source": []
  }
 ],
 "metadata": {
  "kernelspec": {
   "display_name": "Python 3 (ipykernel)",
   "language": "python",
   "name": "python3"
  },
  "language_info": {
   "codemirror_mode": {
    "name": "ipython",
    "version": 3
   },
   "file_extension": ".py",
   "mimetype": "text/x-python",
   "name": "python",
   "nbconvert_exporter": "python",
   "pygments_lexer": "ipython3",
   "version": "3.12.5"
  }
 },
 "nbformat": 4,
 "nbformat_minor": 5
}
