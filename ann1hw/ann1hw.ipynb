{
 "cells": [
  {
   "cell_type": "markdown",
   "id": "6a775d3a-617c-4f74-8c27-44795414e67a",
   "metadata": {},
   "source": [
    "## ann1hw\n",
    "3.9.25"
   ]
  },
  {
   "cell_type": "markdown",
   "id": "e56931f8-5fba-418e-813d-089f72016eb0",
   "metadata": {},
   "source": [
    "imports:"
   ]
  },
  {
   "cell_type": "code",
   "execution_count": 1,
   "id": "e56afa5d-5c28-473f-98c8-873c561de51b",
   "metadata": {},
   "outputs": [],
   "source": [
    "import numpy as np\n",
    "import tensorflow as tf\n",
    "from tensorflow.keras import Sequential, Input\n",
    "from tensorflow.keras.layers import Dense\n",
    "from sklearn.preprocessing import StandardScaler"
   ]
  },
  {
   "cell_type": "markdown",
   "id": "619268ed-3216-4562-be4c-3ae056b7ca5c",
   "metadata": {},
   "source": [
    "Exercise 1"
   ]
  },
  {
   "cell_type": "code",
   "execution_count": 6,
   "id": "3c60bcc6-1b9a-4cc5-b27a-4cfe6bdf7a8b",
   "metadata": {},
   "outputs": [
    {
     "name": "stdout",
     "output_type": "stream",
     "text": [
      "number of rooms=2 -> predicted price≈ 900.0\n",
      "number of rooms=3 -> predicted price≈ 1200.0\n",
      "number of rooms=4 -> predicted price≈ 1500.0\n",
      "number of rooms=5 -> predicted price≈ 1800.0\n",
      "number of rooms=6 -> predicted price≈ 2100.0\n",
      "number of rooms=7 -> predicted price≈ 2400.0\n",
      "number of rooms=8 -> predicted price≈ 2700.0\n",
      "\n",
      "Predicted price for 5.5 rooms ≈ 1950.0K NIS\n"
     ]
    }
   ],
   "source": [
    "# ----- data -----\n",
    "X = np.array([[2],[3],[4],[5],[6],[7],[8]], dtype=float)\n",
    "y = np.array([900,1200,1500,1800,2100,2400,2700], dtype=float).reshape(-1,1)\n",
    "\n",
    "# ----- scale X and y -----\n",
    "x_scaler = StandardScaler()\n",
    "y_scaler = StandardScaler()\n",
    "X_s = x_scaler.fit_transform(X)\n",
    "y_s = y_scaler.fit_transform(y)\n",
    "\n",
    "# ----- ANN: linear regression as a tiny net -----\n",
    "tf.random.set_seed(42)\n",
    "model = Sequential([Input(shape=(1,)), Dense(1, activation='linear')])\n",
    "model.compile(optimizer=tf.keras.optimizers.Adam(learning_rate=0.05), loss='mse')\n",
    "model.fit(X_s, y_s, epochs=800, verbose=0)\n",
    "\n",
    "# predictions on train (sanity check)\n",
    "pred_s = model.predict(X_s, verbose=0)\n",
    "pred = y_scaler.inverse_transform(pred_s)\n",
    "for h, p in zip(X.ravel(), pred.ravel()):\n",
    "    print(f\"number of rooms={int(h)} -> predicted price≈ {p:.1f}\")\n",
    "\n",
    "# ----- cost of 5.5 rooms -----\n",
    "rooms_input = np.array([[5.5]])  # number of rooms\n",
    "rooms_input_s = x_scaler.transform(rooms_input)  # scale input\n",
    "pred_price_s = model.predict(rooms_input_s, verbose=0)\n",
    "pred_price = y_scaler.inverse_transform(pred_price_s)\n",
    "\n",
    "print(f\"\\nPredicted price for {rooms_input[0,0]} rooms ≈ {pred_price[0,0]:.1f}K NIS\")"
   ]
  },
  {
   "cell_type": "markdown",
   "id": "5ae4b578-e643-4c10-9d99-1750e3cb01b5",
   "metadata": {},
   "source": [
    "Exercise 2"
   ]
  },
  {
   "cell_type": "code",
   "execution_count": 3,
   "id": "14cd3bca-c879-4467-b720-9481c25f2e69",
   "metadata": {},
   "outputs": [
    {
     "name": "stderr",
     "output_type": "stream",
     "text": [
      "C:\\Users\\user\\AppData\\Local\\Programs\\Python\\Python312\\Lib\\site-packages\\keras\\src\\layers\\core\\dense.py:92: UserWarning: Do not pass an `input_shape`/`input_dim` argument to a layer. When using Sequential models, prefer using an `Input(shape)` object as the first layer in the model instead.\n",
      "  super().__init__(activity_regularizer=activity_regularizer, **kwargs)\n"
     ]
    },
    {
     "name": "stdout",
     "output_type": "stream",
     "text": [
      "X: [1, 2, 3, 4, 5, 6, 7, 8, 9, 10]\n",
      "Predicted probabilities: [0.1   0.174 0.285 0.429 0.587 0.729 0.836 0.906 0.948 0.972]\n",
      "Predicted classes: [0 0 0 0 1 1 1 1 1 1]\n",
      "\n",
      "prediction for 6.5 years of experience\n",
      "\u001b[1m1/1\u001b[0m \u001b[32m━━━━━━━━━━━━━━━━━━━━\u001b[0m\u001b[37m\u001b[0m \u001b[1m0s\u001b[0m 63ms/step\n",
      "[[0.6619878]]\n"
     ]
    }
   ],
   "source": [
    "# ----- data (from the table) -----\n",
    "X = np.array([1,2,3,4,5,6,7,8,9,10], dtype=float).reshape(-1, 1)\n",
    "y = np.array([0,0,0,0,1,1,1,1,1,1], dtype=float).reshape(-1, 1)\n",
    "\n",
    "# scale input\n",
    "scaler = StandardScaler()\n",
    "X_s = scaler.fit_transform(X)\n",
    "\n",
    "# ----- ANN: single neuron sigmoid -----\n",
    "model = Sequential([Dense(1, activation='sigmoid', input_shape=(1,))])\n",
    "model.compile(optimizer='adam', loss='binary_crossentropy', metrics=['accuracy'])\n",
    "\n",
    "# train\n",
    "model.fit(X_s, y, epochs=2000, verbose=0)\n",
    "\n",
    "# ----- predictions -----\n",
    "probs = model.predict(X_s, verbose=0)\n",
    "preds = (probs > 0.5).astype(int)\n",
    "\n",
    "print(\"X:\", [1,2,3,4,5,6,7,8,9,10])\n",
    "print(\"Predicted probabilities:\", np.round(probs.ravel(), 3))\n",
    "print(\"Predicted classes:\", preds.ravel())\n",
    "\n",
    "# ----- prediction for 6.5 years -----\n",
    "print()\n",
    "print('prediction for 6.5 years of experience')\n",
    "print(model.predict(scaler.fit_transform([[6.5]])))\n"
   ]
  },
  {
   "cell_type": "code",
   "execution_count": null,
   "id": "a7eae3d2-f3f1-4f47-ac64-6b3719e5d28c",
   "metadata": {},
   "outputs": [],
   "source": []
  }
 ],
 "metadata": {
  "kernelspec": {
   "display_name": "Python 3 (ipykernel)",
   "language": "python",
   "name": "python3"
  },
  "language_info": {
   "codemirror_mode": {
    "name": "ipython",
    "version": 3
   },
   "file_extension": ".py",
   "mimetype": "text/x-python",
   "name": "python",
   "nbconvert_exporter": "python",
   "pygments_lexer": "ipython3",
   "version": "3.12.5"
  }
 },
 "nbformat": 4,
 "nbformat_minor": 5
}
