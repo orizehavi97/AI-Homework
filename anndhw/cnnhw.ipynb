{
 "cells": [
  {
   "cell_type": "markdown",
   "id": "6a775d3a-617c-4f74-8c27-44795414e67a",
   "metadata": {},
   "source": [
    "## cnnhw\n",
    "7.9.25"
   ]
  },
  {
   "cell_type": "markdown",
   "id": "e56931f8-5fba-418e-813d-089f72016eb0",
   "metadata": {},
   "source": [
    "imports:"
   ]
  },
  {
   "cell_type": "code",
   "execution_count": 8,
   "id": "e56afa5d-5c28-473f-98c8-873c561de51b",
   "metadata": {},
   "outputs": [],
   "source": [
    "import numpy as np\n",
    "from sklearn.preprocessing import StandardScaler\n",
    "from tensorflow.keras.models import Sequential\n",
    "from tensorflow.keras.layers import Dense"
   ]
  },
  {
   "cell_type": "markdown",
   "id": "5ae4b578-e643-4c10-9d99-1750e3cb01b5",
   "metadata": {},
   "source": [
    "Exercise 2"
   ]
  },
  {
   "cell_type": "code",
   "execution_count": 3,
   "id": "14cd3bca-c879-4467-b720-9481c25f2e69",
   "metadata": {},
   "outputs": [
    {
     "name": "stderr",
     "output_type": "stream",
     "text": [
      "C:\\Users\\user\\AppData\\Local\\Programs\\Python\\Python312\\Lib\\site-packages\\keras\\src\\layers\\core\\dense.py:92: UserWarning: Do not pass an `input_shape`/`input_dim` argument to a layer. When using Sequential models, prefer using an `Input(shape)` object as the first layer in the model instead.\n",
      "  super().__init__(activity_regularizer=activity_regularizer, **kwargs)\n"
     ]
    },
    {
     "name": "stdout",
     "output_type": "stream",
     "text": [
      "\n",
      "prediction for 58K return\n",
      "\u001b[1m1/1\u001b[0m \u001b[32m━━━━━━━━━━━━━━━━━━━━\u001b[0m\u001b[37m\u001b[0m \u001b[1m0s\u001b[0m 77ms/step\n",
      "[[0.5175849]]\n"
     ]
    }
   ],
   "source": [
    "# ----- data -----\n",
    "X = np.array([[30], [35], [40], [45], [50], [55], [60], [65], [70], [75], [80], [85], [90]], dtype=float)\n",
    "y = np.array([[0], [0], [0], [0], [0], [1], [0], [1], [1], [1], [1], [1], [1]], dtype=float)\n",
    "\n",
    "# scale input\n",
    "scaler = StandardScaler()\n",
    "X_s = scaler.fit_transform(X)\n",
    "\n",
    "# ----- ANN: single neuron sigmoid -----\n",
    "model = Sequential([Dense(1, activation='sigmoid', input_shape=(1,))])\n",
    "model.compile(optimizer='adam', loss='binary_crossentropy', metrics=['accuracy'])\n",
    "\n",
    "# train\n",
    "model.fit(X_s, y, epochs=2000, verbose=0)\n",
    "\n",
    "# ----- prediction for 58K return -----\n",
    "print()\n",
    "income_58 = scaler.transform(np.array([[58]]))\n",
    "print('prediction for 58K return')\n",
    "print(model.predict(income_58))"
   ]
  },
  {
   "cell_type": "code",
   "execution_count": null,
   "id": "a7eae3d2-f3f1-4f47-ac64-6b3719e5d28c",
   "metadata": {},
   "outputs": [],
   "source": []
  }
 ],
 "metadata": {
  "kernelspec": {
   "display_name": "Python 3 (ipykernel)",
   "language": "python",
   "name": "python3"
  },
  "language_info": {
   "codemirror_mode": {
    "name": "ipython",
    "version": 3
   },
   "file_extension": ".py",
   "mimetype": "text/x-python",
   "name": "python",
   "nbconvert_exporter": "python",
   "pygments_lexer": "ipython3",
   "version": "3.12.5"
  }
 },
 "nbformat": 4,
 "nbformat_minor": 5
}
