{
 "cells": [
  {
   "cell_type": "markdown",
   "id": "6a775d3a-617c-4f74-8c27-44795414e67a",
   "metadata": {},
   "source": [
    "## dectreehw\n",
    "24.8.25"
   ]
  },
  {
   "cell_type": "markdown",
   "id": "315499ca-df0e-42d4-889c-1683e4ad5281",
   "metadata": {},
   "source": [
    "Decision tree:"
   ]
  },
  {
   "cell_type": "markdown",
   "id": "308a4579-6f76-44d2-ba70-7f8040a4c47c",
   "metadata": {},
   "source": [
    "![Tree](dechw.png)"
   ]
  },
  {
   "cell_type": "markdown",
   "id": "e56931f8-5fba-418e-813d-089f72016eb0",
   "metadata": {},
   "source": [
    "imports:"
   ]
  },
  {
   "cell_type": "code",
   "execution_count": 22,
   "id": "e56afa5d-5c28-473f-98c8-873c561de51b",
   "metadata": {},
   "outputs": [],
   "source": [
    "from sklearn.tree import DecisionTreeClassifier\n",
    "from sklearn.metrics import accuracy_score, precision_score, recall_score, f1_score, confusion_matrix, classification_report\n",
    "import numpy as np"
   ]
  },
  {
   "cell_type": "markdown",
   "id": "619268ed-3216-4562-be4c-3ae056b7ca5c",
   "metadata": {},
   "source": [
    "Build the tree and check accuracy"
   ]
  },
  {
   "cell_type": "code",
   "execution_count": 25,
   "id": "3c60bcc6-1b9a-4cc5-b27a-4cfe6bdf7a8b",
   "metadata": {},
   "outputs": [
    {
     "name": "stdout",
     "output_type": "stream",
     "text": [
      "Accuracy: 1.0\n",
      "Precision (macro): 1.0\n",
      "Recall (macro): 1.0\n",
      "F1 Score (macro): 1.0\n",
      "Confusion Matrix:\n",
      " [[3 0]\n",
      " [0 3]]\n",
      "Classification Report:\n",
      "               precision    recall  f1-score   support\n",
      "\n",
      "           A       1.00      1.00      1.00         3\n",
      "           B       1.00      1.00      1.00         3\n",
      "\n",
      "    accuracy                           1.00         6\n",
      "   macro avg       1.00      1.00      1.00         6\n",
      "weighted avg       1.00      1.00      1.00         6\n",
      "\n"
     ]
    }
   ],
   "source": [
    "# Data\n",
    "X = np.array([\n",
    "    [2, 5],\n",
    "    [4, 3],\n",
    "    [6, 4],\n",
    "    [8, 5],\n",
    "    [10, 3],\n",
    "    [12, 4]\n",
    "])\n",
    "\n",
    "y = np.array(['A', 'A', 'B', 'B', 'A', 'B'])\n",
    "\n",
    "# Model\n",
    "clf = DecisionTreeClassifier(criterion='gini', random_state=42)\n",
    "clf.fit(X, y)\n",
    "\n",
    "# Predictions\n",
    "y_pred = clf.predict(X)\n",
    "\n",
    "# Metrics\n",
    "accuracy = accuracy_score(y, y_pred)\n",
    "precision = precision_score(y, y_pred, average='macro')\n",
    "recall = recall_score(y, y_pred, average='macro')\n",
    "f1 = f1_score(y, y_pred, average='macro')\n",
    "cm = confusion_matrix(y, y_pred)\n",
    "report = classification_report(y, y_pred)\n",
    "\n",
    "print(\"Accuracy:\", accuracy)\n",
    "print(\"Precision (macro):\", precision)\n",
    "print(\"Recall (macro):\", recall)\n",
    "print(\"F1 Score (macro):\", f1)\n",
    "print(\"Confusion Matrix:\\n\", cm)\n",
    "print(\"Classification Report:\\n\", report)"
   ]
  },
  {
   "cell_type": "code",
   "execution_count": null,
   "id": "8c1f297c-bebb-4136-ba26-2465037459b5",
   "metadata": {},
   "outputs": [],
   "source": []
  }
 ],
 "metadata": {
  "kernelspec": {
   "display_name": "Python 3 (ipykernel)",
   "language": "python",
   "name": "python3"
  },
  "language_info": {
   "codemirror_mode": {
    "name": "ipython",
    "version": 3
   },
   "file_extension": ".py",
   "mimetype": "text/x-python",
   "name": "python",
   "nbconvert_exporter": "python",
   "pygments_lexer": "ipython3",
   "version": "3.12.5"
  }
 },
 "nbformat": 4,
 "nbformat_minor": 5
}
