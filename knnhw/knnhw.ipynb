{
 "cells": [
  {
   "cell_type": "markdown",
   "id": "6a775d3a-617c-4f74-8c27-44795414e67a",
   "metadata": {},
   "source": [
    "## knnhw\n",
    "20.8.25"
   ]
  },
  {
   "cell_type": "markdown",
   "id": "e56931f8-5fba-418e-813d-089f72016eb0",
   "metadata": {},
   "source": [
    "imports:"
   ]
  },
  {
   "cell_type": "code",
   "execution_count": 25,
   "id": "e56afa5d-5c28-473f-98c8-873c561de51b",
   "metadata": {},
   "outputs": [],
   "source": [
    "import numpy as np\n",
    "import matplotlib.pyplot as plt\n",
    "from sklearn.neighbors import KNeighborsClassifier\n",
    "from sklearn.preprocessing import MinMaxScaler\n",
    "from sklearn.model_selection import train_test_split\n",
    "from sklearn.metrics import accuracy_score, classification_report\n",
    "from sklearn.model_selection import GridSearchCV"
   ]
  },
  {
   "cell_type": "markdown",
   "id": "619268ed-3216-4562-be4c-3ae056b7ca5c",
   "metadata": {},
   "source": [
    "1. Normalizing data with Min-Max"
   ]
  },
  {
   "cell_type": "code",
   "execution_count": 39,
   "id": "3c60bcc6-1b9a-4cc5-b27a-4cfe6bdf7a8b",
   "metadata": {},
   "outputs": [],
   "source": [
    "# Loan data\n",
    "ages = np.array([22, 25, 30, 35, 42, 50, 23, 28, 33, 48])\n",
    "annual_income = np.array([60, 75, 80, 120, 150, 110, 95, 90, 105, 135])\n",
    "credit_years = np.array([1, 2, 3, 5, 8, 10, 1, 2, 4, 9])\n",
    "loan_repaid = np.array([0, 0, 1, 1, 1, 1, 0, 0, 1, 1]) \n",
    "\n",
    "# Create feature matrix\n",
    "X = np.column_stack((ages, annual_income, credit_years))\n",
    "y = loan_repaid\n",
    "\n",
    "# Normalize data\n",
    "scaler = MinMaxScaler()\n",
    "X_scaled = scaler.fit_transform(X)"
   ]
  },
  {
   "cell_type": "markdown",
   "id": "88d0ca63-5f39-4c64-856e-318e8fdb59e0",
   "metadata": {},
   "source": [
    "2. Using KNN algorithm to predict a new applicant for a loan"
   ]
  },
  {
   "cell_type": "code",
   "execution_count": 47,
   "id": "397e955b-feba-4632-8163-9c4f7b616378",
   "metadata": {},
   "outputs": [
    {
     "name": "stdout",
     "output_type": "stream",
     "text": [
      "Prediction: Will the applicant repay the loan? They will not\n",
      "\n",
      "Class probabilities:\n",
      "0: 0.67\n",
      "1: 0.33\n"
     ]
    }
   ],
   "source": [
    "# Train the KNN model\n",
    "k = 3  # number of neighbors\n",
    "model = KNeighborsClassifier(n_neighbors=k)\n",
    "model.fit(X_scaled, y)\n",
    "\n",
    "# New applicant to classify: [age, annual_income(thousands ₪), credit_years]\n",
    "new_applicant = np.array([[27, 95, 3]])\n",
    "new_applicant_scaled = scaler.transform(new_applicant)\n",
    "prediction = model.predict(new_applicant_scaled)\n",
    "probabilities = model.predict_proba(new_applicant_scaled)\n",
    "\n",
    "# Output result\n",
    "print(f\"Prediction: Will the applicant repay the loan? They will {\"\" if prediction[0] == 1 else \"not\"}\")\n",
    "\n",
    "# Print class probabilities\n",
    "class_names = model.classes_\n",
    "print(\"\\nClass probabilities:\")\n",
    "for cls, prob in zip(class_names, probabilities[0]):\n",
    "    print(f\"{cls}: {prob:.2f}\")"
   ]
  },
  {
   "cell_type": "markdown",
   "id": "17555b5c-1f75-4298-847a-244318654f16",
   "metadata": {},
   "source": [
    "3. Using Grid Search CV to check which parameters will provide the best results"
   ]
  },
  {
   "cell_type": "code",
   "execution_count": 50,
   "id": "59fe6463-aa8e-43f3-92bb-48455704eb0a",
   "metadata": {},
   "outputs": [
    {
     "name": "stdout",
     "output_type": "stream",
     "text": [
      "Best parameters: {'metric': 'euclidean', 'n_neighbors': 2, 'weights': 'uniform'}\n",
      "Best accuracy: 0.9166666666666666\n"
     ]
    }
   ],
   "source": [
    "# Base model\n",
    "knn = KNeighborsClassifier()\n",
    "\n",
    "# Grid of parameters to try\n",
    "param_grid = {\n",
    "    'n_neighbors': list(range(1, 8)),  # You asked for 1-31 but our data set it too small, so I adjusted it to 1-8\n",
    "    'weights': ['uniform', 'distance'],\n",
    "    'metric': ['euclidean', 'manhattan']\n",
    "}\n",
    "\n",
    "# Grid Search with 5-fold cross-validation\n",
    "grid = GridSearchCV(knn, param_grid, cv=4, scoring='accuracy')\n",
    "grid.fit(X_scaled, y)\n",
    "\n",
    "# Show best results\n",
    "print(\"Best parameters:\", grid.best_params_)\n",
    "print(\"Best accuracy:\", grid.best_score_)"
   ]
  }
 ],
 "metadata": {
  "kernelspec": {
   "display_name": "Python 3 (ipykernel)",
   "language": "python",
   "name": "python3"
  },
  "language_info": {
   "codemirror_mode": {
    "name": "ipython",
    "version": 3
   },
   "file_extension": ".py",
   "mimetype": "text/x-python",
   "name": "python",
   "nbconvert_exporter": "python",
   "pygments_lexer": "ipython3",
   "version": "3.12.5"
  }
 },
 "nbformat": 4,
 "nbformat_minor": 5
}
