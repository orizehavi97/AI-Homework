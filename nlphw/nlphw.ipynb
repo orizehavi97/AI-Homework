{
 "cells": [
  {
   "cell_type": "markdown",
   "id": "6a775d3a-617c-4f74-8c27-44795414e67a",
   "metadata": {},
   "source": [
    "## nlphw\n",
    "10.9.25"
   ]
  },
  {
   "cell_type": "markdown",
   "id": "e56931f8-5fba-418e-813d-089f72016eb0",
   "metadata": {},
   "source": [
    "imports:"
   ]
  },
  {
   "cell_type": "code",
   "execution_count": 104,
   "id": "e56afa5d-5c28-473f-98c8-873c561de51b",
   "metadata": {},
   "outputs": [],
   "source": [
    "import spacy\n",
    "from spacy.matcher import PhraseMatcher\n",
    "from spacy import displacy"
   ]
  },
  {
   "cell_type": "markdown",
   "id": "afde6e96-af78-4e12-a6f8-1ce14b297a2a",
   "metadata": {},
   "source": [
    "Load the model"
   ]
  },
  {
   "cell_type": "code",
   "execution_count": 106,
   "id": "235d7820-3a04-4ef4-9cb0-19490deea4f8",
   "metadata": {},
   "outputs": [],
   "source": [
    "nlp = spacy.load(\"en_core_web_sm\")"
   ]
  },
  {
   "cell_type": "markdown",
   "id": "5ae4b578-e643-4c10-9d99-1750e3cb01b5",
   "metadata": {},
   "source": [
    "1. Named Entities Extraction"
   ]
  },
  {
   "cell_type": "code",
   "execution_count": 108,
   "id": "14cd3bca-c879-4467-b720-9481c25f2e69",
   "metadata": {},
   "outputs": [
    {
     "name": "stdout",
     "output_type": "stream",
     "text": [
      "Taylor Swift PERSON\n",
      "Los Angeles GPE\n",
      "March 3rd, 2023 DATE\n"
     ]
    }
   ],
   "source": [
    "# The model response is a SpaCy Doc object\n",
    "doc = nlp(\"Taylor Swift performed in Los Angeles on March 3rd, 2023.\")\n",
    "\n",
    "for ent in doc.ents:\n",
    "    print(ent, ent.label_)"
   ]
  },
  {
   "cell_type": "markdown",
   "id": "bb7473c3-d7d0-454c-a3ee-053ec2f509bf",
   "metadata": {},
   "source": [
    "2. Entity Classification"
   ]
  },
  {
   "cell_type": "code",
   "execution_count": 110,
   "id": "a7eae3d2-f3f1-4f47-ac64-6b3719e5d28c",
   "metadata": {},
   "outputs": [
    {
     "name": "stdout",
     "output_type": "stream",
     "text": [
      "Serena Williams\n",
      "Tom Hanks\n"
     ]
    }
   ],
   "source": [
    "def return_persons_ents(str):\n",
    "    # The model response is a SpaCy Doc object\n",
    "    doc = nlp(str)\n",
    "    \n",
    "    for ent in doc.ents:\n",
    "        if ent.label_ == \"PERSON\":\n",
    "            print(ent)\n",
    "\n",
    "return_persons_ents(\"Serena Williams had dinner with Tom Hanks in Paris.\") "
   ]
  },
  {
   "cell_type": "markdown",
   "id": "cba15eea-7ed3-454b-803f-a6d94c5ff1bf",
   "metadata": {},
   "source": [
    "3. Lemmatization"
   ]
  },
  {
   "cell_type": "code",
   "execution_count": 137,
   "id": "4ca020e9-1bac-40ad-b54b-8bc1017a7a7b",
   "metadata": {},
   "outputs": [
    {
     "name": "stdout",
     "output_type": "stream",
     "text": [
      "She → she\n",
      "was → be\n",
      "running → run\n",
      "and → and\n",
      "had → have\n",
      "run → run\n",
      "5 → 5\n",
      "kilometers → kilometer\n",
      "by → by\n",
      "7 → 7\n",
      "am → am\n",
      ". → .\n"
     ]
    }
   ],
   "source": [
    "mystring = \"She was running and had run 5 kilometers by 7am.\"\n",
    "\n",
    "doc = nlp(mystring)\n",
    "for token in doc:\n",
    "    print(token, \"→\", token.lemma_)"
   ]
  },
  {
   "cell_type": "markdown",
   "id": "5c6dd071-041e-4525-bf1d-f0c5b500253f",
   "metadata": {},
   "source": [
    "4. Stop Word Removal"
   ]
  },
  {
   "cell_type": "code",
   "execution_count": 142,
   "id": "9afdd580-cebd-41c7-a71a-2278f98cc65f",
   "metadata": {},
   "outputs": [
    {
     "name": "stdout",
     "output_type": "stream",
     "text": [
      "[example, sentence, stop, words]\n"
     ]
    }
   ],
   "source": [
    "def return_non_stop_words(str):\n",
    "    # The model response is a SpaCy Doc object\n",
    "    doc = nlp(str)\n",
    "    return [token for token in doc if not token.is_stop and token.is_alpha]\n",
    "\n",
    "print(return_non_stop_words(\"This is an example sentence with some stop words.\"))"
   ]
  },
  {
   "cell_type": "markdown",
   "id": "88768fea-c8f2-4096-a42b-f650f87d3ff5",
   "metadata": {},
   "source": [
    "5. Custom Stop Word"
   ]
  },
  {
   "cell_type": "code",
   "execution_count": 145,
   "id": "604f0311-25c1-4ee9-a1c2-b5f2d8a1ee4b",
   "metadata": {},
   "outputs": [
    {
     "name": "stdout",
     "output_type": "stream",
     "text": [
      "[SpaCy, awesome]\n"
     ]
    }
   ],
   "source": [
    "nlp.vocab['powerful'].is_stop = True\n",
    "\n",
    "print(return_non_stop_words(\"SpaCy is awesome and powerful.\")) # We can see 'powerful' was excluded."
   ]
  },
  {
   "cell_type": "markdown",
   "id": "416d3cdc-1360-492f-b5e9-31d683018f4a",
   "metadata": {},
   "source": [
    "6. Phrase Matcher"
   ]
  },
  {
   "cell_type": "code",
   "execution_count": 118,
   "id": "9ab6f553-7aea-4770-bd27-42842cabc63c",
   "metadata": {},
   "outputs": [
    {
     "name": "stdout",
     "output_type": "stream",
     "text": [
      "Artificial Intelligence\n",
      "artificial intelligence\n"
     ]
    }
   ],
   "source": [
    "matcher = PhraseMatcher(nlp.vocab)\n",
    "\n",
    "patterns = [nlp(\"Artificial Intelligence\"), nlp(\"artificial intelligence\")]\n",
    "matcher.add(\"AI\", patterns)\n",
    "\n",
    "doc = nlp(\"Artificial Intelligence is the future. I study artificial intelligence.\")\n",
    "matches = matcher(doc)\n",
    "\n",
    "for match_id, start, end in matches:\n",
    "    print(doc[start:end].text)"
   ]
  },
  {
   "cell_type": "markdown",
   "id": "1dca12af-8073-4e6b-9907-edef98c7fdec",
   "metadata": {},
   "source": [
    "7. POS Tagging + Explanation"
   ]
  },
  {
   "cell_type": "code",
   "execution_count": 120,
   "id": "069a1fc2-d200-428d-82d0-20e128beec98",
   "metadata": {},
   "outputs": [
    {
     "name": "stdout",
     "output_type": "stream",
     "text": [
      "The   DET   determiner\n",
      "cat   NOUN  noun\n",
      "sat   VERB  verb\n",
      "on    ADP   adposition\n",
      "the   DET   determiner\n",
      "mat   NOUN  noun\n",
      ".     PUNCT punctuation\n"
     ]
    }
   ],
   "source": [
    "# The model response is a SpaCy Doc object\n",
    "doc = nlp(\"The cat sat on the mat.\")\n",
    "\n",
    "for token in doc:\n",
    "    print(f\"{token.text:5} {token.pos_:5} {spacy.explain(token.pos_)}\")"
   ]
  },
  {
   "cell_type": "markdown",
   "id": "07a227c4-fd21-4661-9ecf-c0f9b416a1e9",
   "metadata": {},
   "source": [
    "8. POS Tagging + Displacy Visualization"
   ]
  },
  {
   "cell_type": "code",
   "execution_count": 122,
   "id": "1fb88a9c-7d03-4673-b89f-c6fa5c0f342b",
   "metadata": {},
   "outputs": [
    {
     "name": "stdin",
     "output_type": "stream",
     "text": [
      "Enter a sentence:  Apple is looking at buying a U.K. startup for $1 billion.\n"
     ]
    },
    {
     "name": "stdout",
     "output_type": "stream",
     "text": [
      "Apple PROPN proper noun\n",
      "is    AUX   auxiliary\n",
      "looking VERB  verb\n",
      "at    ADP   adposition\n",
      "buying VERB  verb\n",
      "a     DET   determiner\n",
      "U.K.  PROPN proper noun\n",
      "startup NOUN  noun\n",
      "for   ADP   adposition\n",
      "$     SYM   symbol\n",
      "1     NUM   numeral\n",
      "billion NUM   numeral\n",
      ".     PUNCT punctuation\n"
     ]
    },
    {
     "data": {
      "text/html": [
       "<span class=\"tex2jax_ignore\"><svg xmlns=\"http://www.w3.org/2000/svg\" xmlns:xlink=\"http://www.w3.org/1999/xlink\" xml:lang=\"en\" id=\"0cf2b506de9b4faca66e4882cffba11a-0\" class=\"displacy\" width=\"2150\" height=\"399.5\" direction=\"ltr\" style=\"max-width: none; height: 399.5px; color: #000000; background: #ffffff; font-family: Arial; direction: ltr\">\n",
       "<text class=\"displacy-token\" fill=\"currentColor\" text-anchor=\"middle\" y=\"309.5\">\n",
       "    <tspan class=\"displacy-word\" fill=\"currentColor\" x=\"50\">Apple</tspan>\n",
       "    <tspan class=\"displacy-tag\" dy=\"2em\" fill=\"currentColor\" x=\"50\">PROPN</tspan>\n",
       "</text>\n",
       "\n",
       "<text class=\"displacy-token\" fill=\"currentColor\" text-anchor=\"middle\" y=\"309.5\">\n",
       "    <tspan class=\"displacy-word\" fill=\"currentColor\" x=\"225\">is</tspan>\n",
       "    <tspan class=\"displacy-tag\" dy=\"2em\" fill=\"currentColor\" x=\"225\">AUX</tspan>\n",
       "</text>\n",
       "\n",
       "<text class=\"displacy-token\" fill=\"currentColor\" text-anchor=\"middle\" y=\"309.5\">\n",
       "    <tspan class=\"displacy-word\" fill=\"currentColor\" x=\"400\">looking</tspan>\n",
       "    <tspan class=\"displacy-tag\" dy=\"2em\" fill=\"currentColor\" x=\"400\">VERB</tspan>\n",
       "</text>\n",
       "\n",
       "<text class=\"displacy-token\" fill=\"currentColor\" text-anchor=\"middle\" y=\"309.5\">\n",
       "    <tspan class=\"displacy-word\" fill=\"currentColor\" x=\"575\">at</tspan>\n",
       "    <tspan class=\"displacy-tag\" dy=\"2em\" fill=\"currentColor\" x=\"575\">ADP</tspan>\n",
       "</text>\n",
       "\n",
       "<text class=\"displacy-token\" fill=\"currentColor\" text-anchor=\"middle\" y=\"309.5\">\n",
       "    <tspan class=\"displacy-word\" fill=\"currentColor\" x=\"750\">buying</tspan>\n",
       "    <tspan class=\"displacy-tag\" dy=\"2em\" fill=\"currentColor\" x=\"750\">VERB</tspan>\n",
       "</text>\n",
       "\n",
       "<text class=\"displacy-token\" fill=\"currentColor\" text-anchor=\"middle\" y=\"309.5\">\n",
       "    <tspan class=\"displacy-word\" fill=\"currentColor\" x=\"925\">a</tspan>\n",
       "    <tspan class=\"displacy-tag\" dy=\"2em\" fill=\"currentColor\" x=\"925\">DET</tspan>\n",
       "</text>\n",
       "\n",
       "<text class=\"displacy-token\" fill=\"currentColor\" text-anchor=\"middle\" y=\"309.5\">\n",
       "    <tspan class=\"displacy-word\" fill=\"currentColor\" x=\"1100\">U.K.</tspan>\n",
       "    <tspan class=\"displacy-tag\" dy=\"2em\" fill=\"currentColor\" x=\"1100\">PROPN</tspan>\n",
       "</text>\n",
       "\n",
       "<text class=\"displacy-token\" fill=\"currentColor\" text-anchor=\"middle\" y=\"309.5\">\n",
       "    <tspan class=\"displacy-word\" fill=\"currentColor\" x=\"1275\">startup</tspan>\n",
       "    <tspan class=\"displacy-tag\" dy=\"2em\" fill=\"currentColor\" x=\"1275\">NOUN</tspan>\n",
       "</text>\n",
       "\n",
       "<text class=\"displacy-token\" fill=\"currentColor\" text-anchor=\"middle\" y=\"309.5\">\n",
       "    <tspan class=\"displacy-word\" fill=\"currentColor\" x=\"1450\">for</tspan>\n",
       "    <tspan class=\"displacy-tag\" dy=\"2em\" fill=\"currentColor\" x=\"1450\">ADP</tspan>\n",
       "</text>\n",
       "\n",
       "<text class=\"displacy-token\" fill=\"currentColor\" text-anchor=\"middle\" y=\"309.5\">\n",
       "    <tspan class=\"displacy-word\" fill=\"currentColor\" x=\"1625\">$</tspan>\n",
       "    <tspan class=\"displacy-tag\" dy=\"2em\" fill=\"currentColor\" x=\"1625\">SYM</tspan>\n",
       "</text>\n",
       "\n",
       "<text class=\"displacy-token\" fill=\"currentColor\" text-anchor=\"middle\" y=\"309.5\">\n",
       "    <tspan class=\"displacy-word\" fill=\"currentColor\" x=\"1800\">1</tspan>\n",
       "    <tspan class=\"displacy-tag\" dy=\"2em\" fill=\"currentColor\" x=\"1800\">NUM</tspan>\n",
       "</text>\n",
       "\n",
       "<text class=\"displacy-token\" fill=\"currentColor\" text-anchor=\"middle\" y=\"309.5\">\n",
       "    <tspan class=\"displacy-word\" fill=\"currentColor\" x=\"1975\">billion.</tspan>\n",
       "    <tspan class=\"displacy-tag\" dy=\"2em\" fill=\"currentColor\" x=\"1975\">NUM</tspan>\n",
       "</text>\n",
       "\n",
       "<g class=\"displacy-arrow\">\n",
       "    <path class=\"displacy-arc\" id=\"arrow-0cf2b506de9b4faca66e4882cffba11a-0-0\" stroke-width=\"2px\" d=\"M70,264.5 C70,89.5 395.0,89.5 395.0,264.5\" fill=\"none\" stroke=\"currentColor\"/>\n",
       "    <text dy=\"1.25em\" style=\"font-size: 0.8em; letter-spacing: 1px\">\n",
       "        <textPath xlink:href=\"#arrow-0cf2b506de9b4faca66e4882cffba11a-0-0\" class=\"displacy-label\" startOffset=\"50%\" side=\"left\" fill=\"currentColor\" text-anchor=\"middle\">nsubj</textPath>\n",
       "    </text>\n",
       "    <path class=\"displacy-arrowhead\" d=\"M70,266.5 L62,254.5 78,254.5\" fill=\"currentColor\"/>\n",
       "</g>\n",
       "\n",
       "<g class=\"displacy-arrow\">\n",
       "    <path class=\"displacy-arc\" id=\"arrow-0cf2b506de9b4faca66e4882cffba11a-0-1\" stroke-width=\"2px\" d=\"M245,264.5 C245,177.0 390.0,177.0 390.0,264.5\" fill=\"none\" stroke=\"currentColor\"/>\n",
       "    <text dy=\"1.25em\" style=\"font-size: 0.8em; letter-spacing: 1px\">\n",
       "        <textPath xlink:href=\"#arrow-0cf2b506de9b4faca66e4882cffba11a-0-1\" class=\"displacy-label\" startOffset=\"50%\" side=\"left\" fill=\"currentColor\" text-anchor=\"middle\">aux</textPath>\n",
       "    </text>\n",
       "    <path class=\"displacy-arrowhead\" d=\"M245,266.5 L237,254.5 253,254.5\" fill=\"currentColor\"/>\n",
       "</g>\n",
       "\n",
       "<g class=\"displacy-arrow\">\n",
       "    <path class=\"displacy-arc\" id=\"arrow-0cf2b506de9b4faca66e4882cffba11a-0-2\" stroke-width=\"2px\" d=\"M420,264.5 C420,177.0 565.0,177.0 565.0,264.5\" fill=\"none\" stroke=\"currentColor\"/>\n",
       "    <text dy=\"1.25em\" style=\"font-size: 0.8em; letter-spacing: 1px\">\n",
       "        <textPath xlink:href=\"#arrow-0cf2b506de9b4faca66e4882cffba11a-0-2\" class=\"displacy-label\" startOffset=\"50%\" side=\"left\" fill=\"currentColor\" text-anchor=\"middle\">prep</textPath>\n",
       "    </text>\n",
       "    <path class=\"displacy-arrowhead\" d=\"M565.0,266.5 L573.0,254.5 557.0,254.5\" fill=\"currentColor\"/>\n",
       "</g>\n",
       "\n",
       "<g class=\"displacy-arrow\">\n",
       "    <path class=\"displacy-arc\" id=\"arrow-0cf2b506de9b4faca66e4882cffba11a-0-3\" stroke-width=\"2px\" d=\"M595,264.5 C595,177.0 740.0,177.0 740.0,264.5\" fill=\"none\" stroke=\"currentColor\"/>\n",
       "    <text dy=\"1.25em\" style=\"font-size: 0.8em; letter-spacing: 1px\">\n",
       "        <textPath xlink:href=\"#arrow-0cf2b506de9b4faca66e4882cffba11a-0-3\" class=\"displacy-label\" startOffset=\"50%\" side=\"left\" fill=\"currentColor\" text-anchor=\"middle\">pcomp</textPath>\n",
       "    </text>\n",
       "    <path class=\"displacy-arrowhead\" d=\"M740.0,266.5 L748.0,254.5 732.0,254.5\" fill=\"currentColor\"/>\n",
       "</g>\n",
       "\n",
       "<g class=\"displacy-arrow\">\n",
       "    <path class=\"displacy-arc\" id=\"arrow-0cf2b506de9b4faca66e4882cffba11a-0-4\" stroke-width=\"2px\" d=\"M945,264.5 C945,89.5 1270.0,89.5 1270.0,264.5\" fill=\"none\" stroke=\"currentColor\"/>\n",
       "    <text dy=\"1.25em\" style=\"font-size: 0.8em; letter-spacing: 1px\">\n",
       "        <textPath xlink:href=\"#arrow-0cf2b506de9b4faca66e4882cffba11a-0-4\" class=\"displacy-label\" startOffset=\"50%\" side=\"left\" fill=\"currentColor\" text-anchor=\"middle\">det</textPath>\n",
       "    </text>\n",
       "    <path class=\"displacy-arrowhead\" d=\"M945,266.5 L937,254.5 953,254.5\" fill=\"currentColor\"/>\n",
       "</g>\n",
       "\n",
       "<g class=\"displacy-arrow\">\n",
       "    <path class=\"displacy-arc\" id=\"arrow-0cf2b506de9b4faca66e4882cffba11a-0-5\" stroke-width=\"2px\" d=\"M1120,264.5 C1120,177.0 1265.0,177.0 1265.0,264.5\" fill=\"none\" stroke=\"currentColor\"/>\n",
       "    <text dy=\"1.25em\" style=\"font-size: 0.8em; letter-spacing: 1px\">\n",
       "        <textPath xlink:href=\"#arrow-0cf2b506de9b4faca66e4882cffba11a-0-5\" class=\"displacy-label\" startOffset=\"50%\" side=\"left\" fill=\"currentColor\" text-anchor=\"middle\">compound</textPath>\n",
       "    </text>\n",
       "    <path class=\"displacy-arrowhead\" d=\"M1120,266.5 L1112,254.5 1128,254.5\" fill=\"currentColor\"/>\n",
       "</g>\n",
       "\n",
       "<g class=\"displacy-arrow\">\n",
       "    <path class=\"displacy-arc\" id=\"arrow-0cf2b506de9b4faca66e4882cffba11a-0-6\" stroke-width=\"2px\" d=\"M770,264.5 C770,2.0 1275.0,2.0 1275.0,264.5\" fill=\"none\" stroke=\"currentColor\"/>\n",
       "    <text dy=\"1.25em\" style=\"font-size: 0.8em; letter-spacing: 1px\">\n",
       "        <textPath xlink:href=\"#arrow-0cf2b506de9b4faca66e4882cffba11a-0-6\" class=\"displacy-label\" startOffset=\"50%\" side=\"left\" fill=\"currentColor\" text-anchor=\"middle\">dobj</textPath>\n",
       "    </text>\n",
       "    <path class=\"displacy-arrowhead\" d=\"M1275.0,266.5 L1283.0,254.5 1267.0,254.5\" fill=\"currentColor\"/>\n",
       "</g>\n",
       "\n",
       "<g class=\"displacy-arrow\">\n",
       "    <path class=\"displacy-arc\" id=\"arrow-0cf2b506de9b4faca66e4882cffba11a-0-7\" stroke-width=\"2px\" d=\"M1295,264.5 C1295,177.0 1440.0,177.0 1440.0,264.5\" fill=\"none\" stroke=\"currentColor\"/>\n",
       "    <text dy=\"1.25em\" style=\"font-size: 0.8em; letter-spacing: 1px\">\n",
       "        <textPath xlink:href=\"#arrow-0cf2b506de9b4faca66e4882cffba11a-0-7\" class=\"displacy-label\" startOffset=\"50%\" side=\"left\" fill=\"currentColor\" text-anchor=\"middle\">prep</textPath>\n",
       "    </text>\n",
       "    <path class=\"displacy-arrowhead\" d=\"M1440.0,266.5 L1448.0,254.5 1432.0,254.5\" fill=\"currentColor\"/>\n",
       "</g>\n",
       "\n",
       "<g class=\"displacy-arrow\">\n",
       "    <path class=\"displacy-arc\" id=\"arrow-0cf2b506de9b4faca66e4882cffba11a-0-8\" stroke-width=\"2px\" d=\"M1645,264.5 C1645,89.5 1970.0,89.5 1970.0,264.5\" fill=\"none\" stroke=\"currentColor\"/>\n",
       "    <text dy=\"1.25em\" style=\"font-size: 0.8em; letter-spacing: 1px\">\n",
       "        <textPath xlink:href=\"#arrow-0cf2b506de9b4faca66e4882cffba11a-0-8\" class=\"displacy-label\" startOffset=\"50%\" side=\"left\" fill=\"currentColor\" text-anchor=\"middle\">quantmod</textPath>\n",
       "    </text>\n",
       "    <path class=\"displacy-arrowhead\" d=\"M1645,266.5 L1637,254.5 1653,254.5\" fill=\"currentColor\"/>\n",
       "</g>\n",
       "\n",
       "<g class=\"displacy-arrow\">\n",
       "    <path class=\"displacy-arc\" id=\"arrow-0cf2b506de9b4faca66e4882cffba11a-0-9\" stroke-width=\"2px\" d=\"M1820,264.5 C1820,177.0 1965.0,177.0 1965.0,264.5\" fill=\"none\" stroke=\"currentColor\"/>\n",
       "    <text dy=\"1.25em\" style=\"font-size: 0.8em; letter-spacing: 1px\">\n",
       "        <textPath xlink:href=\"#arrow-0cf2b506de9b4faca66e4882cffba11a-0-9\" class=\"displacy-label\" startOffset=\"50%\" side=\"left\" fill=\"currentColor\" text-anchor=\"middle\">compound</textPath>\n",
       "    </text>\n",
       "    <path class=\"displacy-arrowhead\" d=\"M1820,266.5 L1812,254.5 1828,254.5\" fill=\"currentColor\"/>\n",
       "</g>\n",
       "\n",
       "<g class=\"displacy-arrow\">\n",
       "    <path class=\"displacy-arc\" id=\"arrow-0cf2b506de9b4faca66e4882cffba11a-0-10\" stroke-width=\"2px\" d=\"M1470,264.5 C1470,2.0 1975.0,2.0 1975.0,264.5\" fill=\"none\" stroke=\"currentColor\"/>\n",
       "    <text dy=\"1.25em\" style=\"font-size: 0.8em; letter-spacing: 1px\">\n",
       "        <textPath xlink:href=\"#arrow-0cf2b506de9b4faca66e4882cffba11a-0-10\" class=\"displacy-label\" startOffset=\"50%\" side=\"left\" fill=\"currentColor\" text-anchor=\"middle\">pobj</textPath>\n",
       "    </text>\n",
       "    <path class=\"displacy-arrowhead\" d=\"M1975.0,266.5 L1983.0,254.5 1967.0,254.5\" fill=\"currentColor\"/>\n",
       "</g>\n",
       "</svg></span>"
      ],
      "text/plain": [
       "<IPython.core.display.HTML object>"
      ]
     },
     "metadata": {},
     "output_type": "display_data"
    }
   ],
   "source": [
    "sentence = input(\"Enter a sentence: \")\n",
    "doc = nlp(sentence)\n",
    "\n",
    "# print each word with POS tag and explanation\n",
    "for token in doc:\n",
    "    print(f\"{token.text:5} {token.pos_:5} {spacy.explain(token.pos_)}\")\n",
    "\n",
    "# Displacy Visualization\n",
    "displacy.render(doc, style=\"dep\", jupyter=True)"
   ]
  },
  {
   "cell_type": "code",
   "execution_count": null,
   "id": "0ca5eee5-771d-4d31-81bc-b78eaefee89c",
   "metadata": {},
   "outputs": [],
   "source": []
  }
 ],
 "metadata": {
  "kernelspec": {
   "display_name": "Python AI Course (spacy_env)",
   "language": "python",
   "name": "spacy_env"
  },
  "language_info": {
   "codemirror_mode": {
    "name": "ipython",
    "version": 3
   },
   "file_extension": ".py",
   "mimetype": "text/x-python",
   "name": "python",
   "nbconvert_exporter": "python",
   "pygments_lexer": "ipython3",
   "version": "3.10.9"
  }
 },
 "nbformat": 4,
 "nbformat_minor": 5
}
