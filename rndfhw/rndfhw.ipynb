{
 "cells": [
  {
   "cell_type": "markdown",
   "id": "6a775d3a-617c-4f74-8c27-44795414e67a",
   "metadata": {},
   "source": [
    "## rndfhw\n",
    "27.8.25"
   ]
  },
  {
   "cell_type": "markdown",
   "id": "e56931f8-5fba-418e-813d-089f72016eb0",
   "metadata": {},
   "source": [
    "imports:"
   ]
  },
  {
   "cell_type": "code",
   "execution_count": 26,
   "id": "e56afa5d-5c28-473f-98c8-873c561de51b",
   "metadata": {},
   "outputs": [],
   "source": [
    "import numpy as np\n",
    "import seaborn as sns\n",
    "from matplotlib import pyplot as plt\n",
    "from sklearn.ensemble import RandomForestClassifier\n",
    "from sklearn.model_selection import train_test_split\n",
    "from sklearn.metrics import accuracy_score, confusion_matrix, classification_report\n",
    "import joblib"
   ]
  },
  {
   "cell_type": "markdown",
   "id": "619268ed-3216-4562-be4c-3ae056b7ca5c",
   "metadata": {},
   "source": [
    "Build the RFC, split into train and test. Train the model on the train dataset and calculate the accuracy and OOB accuracy along with presenting a classification report"
   ]
  },
  {
   "cell_type": "code",
   "execution_count": 29,
   "id": "3c60bcc6-1b9a-4cc5-b27a-4cfe6bdf7a8b",
   "metadata": {},
   "outputs": [
    {
     "name": "stdout",
     "output_type": "stream",
     "text": [
      "Model Accuracy: 1.00\n",
      "Out-of-Bag Accuracy: 0.86\n",
      "\n",
      "Classification Report:\n",
      "              precision    recall  f1-score   support\n",
      "\n",
      "           1       1.00      1.00      1.00         3\n",
      "\n",
      "    accuracy                           1.00         3\n",
      "   macro avg       1.00      1.00      1.00         3\n",
      "weighted avg       1.00      1.00      1.00         3\n",
      "\n"
     ]
    }
   ],
   "source": [
    "# Features data\n",
    "study_hours = [25, 38, 29, 47, 35, 53, 31, 42, 40, 50]              # ages\n",
    "sleep_hours = [0, 2, 1, 3, 1, 4, 0, 2, 2, 3]                        # number of past accidents\n",
    "had_breakfast = [120, 200, 150, 300, 220, 400, 130, 180, 250, 350]  # insurance amount (k)\n",
    "\n",
    "# Create features array\n",
    "X = np.column_stack((study_hours, sleep_hours, had_breakfast))\n",
    "\n",
    "# Target data (payout: 1=yes, 0=no)\n",
    "y = np.array([0, 1, 0, 1, 1, 1, 0, 1, 1, 1])\n",
    "\n",
    "# Split the data into training and testing sets\n",
    "X_train, X_test, y_train, y_test = train_test_split(\n",
    "    X, y, test_size=0.3, random_state=42\n",
    ")\n",
    "\n",
    "# Create a Random Forest model\n",
    "rf_model = RandomForestClassifier(\n",
    "    n_estimators=100,\n",
    "    bootstrap=True,\n",
    "    oob_score=True,\n",
    "    random_state=42\n",
    ")\n",
    "\n",
    "# Train the model\n",
    "rf_model.fit(X_train, y_train)\n",
    "\n",
    "# Predict on test set\n",
    "y_pred = rf_model.predict(X_test)\n",
    "\n",
    "# Calculate accuracy scores\n",
    "accuracy = accuracy_score(y_test, y_pred)\n",
    "print(f\"Model Accuracy: {accuracy:.2f}\")\n",
    "print(f\"Out-of-Bag Accuracy: {rf_model.oob_score_:.2f}\")\n",
    "\n",
    "# Print detailed classification report\n",
    "print(\"\\nClassification Report:\")\n",
    "print(classification_report(y_test, y_pred))"
   ]
  },
  {
   "cell_type": "markdown",
   "id": "5ae4b578-e643-4c10-9d99-1750e3cb01b5",
   "metadata": {},
   "source": [
    "7. Model accuracy is how well the model did on new test data, and OOB accuracy is how well it did on the extra data left out while building the trees."
   ]
  },
  {
   "cell_type": "markdown",
   "id": "ceca210b-c545-410e-a71f-7547b52fd9f3",
   "metadata": {},
   "source": [
    "8. Saving the model using joblib, load it and make a prediction. "
   ]
  },
  {
   "cell_type": "code",
   "execution_count": 33,
   "id": "14cd3bca-c879-4467-b720-9481c25f2e69",
   "metadata": {},
   "outputs": [
    {
     "name": "stdout",
     "output_type": "stream",
     "text": [
      "Model saved successfully!\n",
      "Model loaded successfully!\n"
     ]
    }
   ],
   "source": [
    "# Save the model to disk\n",
    "joblib.dump(rf_model, 'rfc_model.joblib')\n",
    "print(\"Model saved successfully!\")\n",
    "\n",
    "# Load the model from disk\n",
    "loaded_model = joblib.load('rfc_model.joblib')\n",
    "print(\"Model loaded successfully!\")\n",
    "\n",
    "# Make predictions using the loaded model\n",
    "y_pred = loaded_model.predict(X_test)"
   ]
  }
 ],
 "metadata": {
  "kernelspec": {
   "display_name": "Python 3 (ipykernel)",
   "language": "python",
   "name": "python3"
  },
  "language_info": {
   "codemirror_mode": {
    "name": "ipython",
    "version": 3
   },
   "file_extension": ".py",
   "mimetype": "text/x-python",
   "name": "python",
   "nbconvert_exporter": "python",
   "pygments_lexer": "ipython3",
   "version": "3.12.5"
  }
 },
 "nbformat": 4,
 "nbformat_minor": 5
}
